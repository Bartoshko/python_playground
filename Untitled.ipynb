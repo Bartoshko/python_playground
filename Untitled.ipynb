{
 "cells": [
  {
   "cell_type": "code",
   "execution_count": 1,
   "metadata": {},
   "outputs": [],
   "source": [
    "import numpy as np"
   ]
  },
  {
   "cell_type": "code",
   "execution_count": 2,
   "metadata": {},
   "outputs": [],
   "source": [
    "import torch"
   ]
  },
  {
   "cell_type": "markdown",
   "metadata": {},
   "source": [
    "numpy dataset"
   ]
  },
  {
   "cell_type": "code",
   "execution_count": 92,
   "metadata": {
    "scrolled": true
   },
   "outputs": [
    {
     "data": {
      "text/plain": [
       "array([[[0.10543737, 0.20800431, 0.84326634],\n",
       "        [0.85669298, 0.12082251, 0.67939365],\n",
       "        [0.76710969, 0.95576496, 0.31643909]],\n",
       "\n",
       "       [[0.45728135, 0.45604513, 0.6611328 ],\n",
       "        [0.88792202, 0.42780538, 0.36052238],\n",
       "        [0.35335648, 0.10708638, 0.52457244]],\n",
       "\n",
       "       [[0.5876843 , 0.53207281, 0.26089564],\n",
       "        [0.50609329, 0.97900908, 0.47501475],\n",
       "        [0.87539196, 0.24807305, 0.21561212]]])"
      ]
     },
     "execution_count": 92,
     "metadata": {},
     "output_type": "execute_result"
    }
   ],
   "source": [
    "A = np.random.random((3,3,3))\n",
    "A"
   ]
  },
  {
   "cell_type": "code",
   "execution_count": 93,
   "metadata": {},
   "outputs": [
    {
     "data": {
      "text/plain": [
       "(3, 3, 3)"
      ]
     },
     "execution_count": 93,
     "metadata": {},
     "output_type": "execute_result"
    }
   ],
   "source": [
    "A.shape"
   ]
  },
  {
   "cell_type": "code",
   "execution_count": 94,
   "metadata": {
    "scrolled": true
   },
   "outputs": [],
   "source": [
    "B = A.T"
   ]
  },
  {
   "cell_type": "code",
   "execution_count": 95,
   "metadata": {},
   "outputs": [
    {
     "data": {
      "text/plain": [
       "array([[[0.10543737, 0.45728135, 0.5876843 ],\n",
       "        [0.85669298, 0.88792202, 0.50609329],\n",
       "        [0.76710969, 0.35335648, 0.87539196]],\n",
       "\n",
       "       [[0.20800431, 0.45604513, 0.53207281],\n",
       "        [0.12082251, 0.42780538, 0.97900908],\n",
       "        [0.95576496, 0.10708638, 0.24807305]],\n",
       "\n",
       "       [[0.84326634, 0.6611328 , 0.26089564],\n",
       "        [0.67939365, 0.36052238, 0.47501475],\n",
       "        [0.31643909, 0.52457244, 0.21561212]]])"
      ]
     },
     "execution_count": 95,
     "metadata": {},
     "output_type": "execute_result"
    }
   ],
   "source": [
    "B"
   ]
  },
  {
   "cell_type": "code",
   "execution_count": 98,
   "metadata": {},
   "outputs": [
    {
     "data": {
      "text/plain": [
       "array([[0.10543737, 0.45728135, 0.5876843 ],\n",
       "       [0.85669298, 0.88792202, 0.50609329]])"
      ]
     },
     "execution_count": 98,
     "metadata": {},
     "output_type": "execute_result"
    }
   ],
   "source": [
    "B[0,0:2,0:3]"
   ]
  },
  {
   "cell_type": "code",
   "execution_count": 110,
   "metadata": {},
   "outputs": [
    {
     "data": {
      "text/plain": [
       "array([[[0.21087474, 0.66528565, 1.43095064],\n",
       "        [1.71338597, 1.00874454, 1.18548694],\n",
       "        [1.53421939, 1.30912144, 1.19183106]],\n",
       "\n",
       "       [[0.66528565, 0.91209026, 1.19320561],\n",
       "        [1.00874454, 0.85561075, 1.33953146],\n",
       "        [1.30912144, 0.21417276, 0.77264548]],\n",
       "\n",
       "       [[1.43095064, 1.19320561, 0.52179128],\n",
       "        [1.18548694, 1.33953146, 0.9500295 ],\n",
       "        [1.19183106, 0.77264548, 0.43122425]]])"
      ]
     },
     "execution_count": 110,
     "metadata": {},
     "output_type": "execute_result"
    }
   ],
   "source": [
    "np.add(A,B)"
   ]
  },
  {
   "cell_type": "code",
   "execution_count": 112,
   "metadata": {},
   "outputs": [
    {
     "data": {
      "text/plain": [
       "array([[[[0.10543737, 0.20800431, 0.84326634],\n",
       "         [0.85669298, 0.12082251, 0.67939365],\n",
       "         [0.76710969, 0.95576496, 0.31643909]],\n",
       "\n",
       "        [[0.45728135, 0.45604513, 0.6611328 ],\n",
       "         [0.88792202, 0.42780538, 0.36052238],\n",
       "         [0.35335648, 0.10708638, 0.52457244]],\n",
       "\n",
       "        [[0.5876843 , 0.53207281, 0.26089564],\n",
       "         [0.50609329, 0.97900908, 0.47501475],\n",
       "         [0.87539196, 0.24807305, 0.21561212]]],\n",
       "\n",
       "\n",
       "       [[[0.10543737, 0.45728135, 0.5876843 ],\n",
       "         [0.85669298, 0.88792202, 0.50609329],\n",
       "         [0.76710969, 0.35335648, 0.87539196]],\n",
       "\n",
       "        [[0.20800431, 0.45604513, 0.53207281],\n",
       "         [0.12082251, 0.42780538, 0.97900908],\n",
       "         [0.95576496, 0.10708638, 0.24807305]],\n",
       "\n",
       "        [[0.84326634, 0.6611328 , 0.26089564],\n",
       "         [0.67939365, 0.36052238, 0.47501475],\n",
       "         [0.31643909, 0.52457244, 0.21561212]]]])"
      ]
     },
     "execution_count": 112,
     "metadata": {},
     "output_type": "execute_result"
    }
   ],
   "source": [
    "np.stack((A,B))"
   ]
  },
  {
   "cell_type": "code",
   "execution_count": 113,
   "metadata": {},
   "outputs": [
    {
     "data": {
      "text/plain": [
       "array([[[0.01111704, 0.09511649, 0.49557439],\n",
       "        [0.73392287, 0.10728097, 0.34383657],\n",
       "        [0.58845728, 0.33772574, 0.27700824]],\n",
       "\n",
       "       [[0.09511649, 0.20797716, 0.35177078],\n",
       "        [0.10728097, 0.18301744, 0.35295468],\n",
       "        [0.33772574, 0.01146749, 0.13013228]],\n",
       "\n",
       "       [[0.49557439, 0.35177078, 0.06806653],\n",
       "        [0.34383657, 0.35295468, 0.22563901],\n",
       "        [0.27700824, 0.13013228, 0.04648859]]])"
      ]
     },
     "execution_count": 113,
     "metadata": {},
     "output_type": "execute_result"
    }
   ],
   "source": [
    "np.multiply(A,B)"
   ]
  },
  {
   "cell_type": "code",
   "execution_count": 128,
   "metadata": {},
   "outputs": [
    {
     "data": {
      "text/plain": [
       "array([[0.72977237, 0.51476393],\n",
       "       [0.82291444, 0.69659045],\n",
       "       [0.52759446, 0.01940323],\n",
       "       [0.76596191, 0.38213222],\n",
       "       [0.34562043, 0.67755341],\n",
       "       [0.26394627, 0.90427601],\n",
       "       [0.20801472, 0.57699661],\n",
       "       [0.55927215, 0.92768433]])"
      ]
     },
     "execution_count": 128,
     "metadata": {},
     "output_type": "execute_result"
    }
   ],
   "source": [
    "C = np.random.random((8,2))\n",
    "C"
   ]
  },
  {
   "cell_type": "code",
   "execution_count": 129,
   "metadata": {},
   "outputs": [
    {
     "data": {
      "text/plain": [
       "array([[0.23165748, 0.99905383],\n",
       "       [0.89290736, 0.66367334]])"
      ]
     },
     "execution_count": 129,
     "metadata": {},
     "output_type": "execute_result"
    }
   ],
   "source": [
    "D = np.random.random((2,2))\n",
    "D"
   ]
  },
  {
   "cell_type": "code",
   "execution_count": 132,
   "metadata": {},
   "outputs": [
    {
     "data": {
      "text/plain": [
       "array([[0.62869373, 1.07071698],\n",
       "       [0.81262502, 1.28444434],\n",
       "       [0.13954648, 0.53997267],\n",
       "       [0.51864947, 1.01884815],\n",
       "       [0.68505799, 0.79496756],\n",
       "       [0.86857983, 0.86384042],\n",
       "       [0.56339269, 0.59075518],\n",
       "       [0.95789574, 1.17442235]])"
      ]
     },
     "execution_count": 132,
     "metadata": {},
     "output_type": "execute_result"
    }
   ],
   "source": [
    "C.dot(D)"
   ]
  },
  {
   "cell_type": "code",
   "execution_count": 133,
   "metadata": {},
   "outputs": [
    {
     "data": {
      "text/plain": [
       "array([[[ True, False, False],\n",
       "        [ True, False, False],\n",
       "        [ True, False, False]],\n",
       "\n",
       "       [[False,  True, False],\n",
       "        [False,  True, False],\n",
       "        [False,  True, False]],\n",
       "\n",
       "       [[False, False,  True],\n",
       "        [False, False,  True],\n",
       "        [False, False,  True]]])"
      ]
     },
     "execution_count": 133,
     "metadata": {},
     "output_type": "execute_result"
    }
   ],
   "source": [
    "A == B"
   ]
  },
  {
   "cell_type": "code",
   "execution_count": null,
   "metadata": {},
   "outputs": [],
   "source": []
  }
 ],
 "metadata": {
  "kernelspec": {
   "display_name": "Python 3",
   "language": "python",
   "name": "python3"
  },
  "language_info": {
   "codemirror_mode": {
    "name": "ipython",
    "version": 3
   },
   "file_extension": ".py",
   "mimetype": "text/x-python",
   "name": "python",
   "nbconvert_exporter": "python",
   "pygments_lexer": "ipython3",
   "version": "3.6.6"
  }
 },
 "nbformat": 4,
 "nbformat_minor": 2
}
